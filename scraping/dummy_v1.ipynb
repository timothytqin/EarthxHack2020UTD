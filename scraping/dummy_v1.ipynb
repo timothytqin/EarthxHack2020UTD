{
  "nbformat": 4,
  "nbformat_minor": 0,
  "metadata": {
    "colab": {
      "name": "Untitled2.ipynb",
      "provenance": [],
      "collapsed_sections": [],
      "authorship_tag": "ABX9TyNdZtrs7reHKogaK+m6uynG",
      "include_colab_link": true
    },
    "kernelspec": {
      "name": "python3",
      "display_name": "Python 3"
    }
  },
  "cells": [
    {
      "cell_type": "markdown",
      "metadata": {
        "id": "view-in-github",
        "colab_type": "text"
      },
      "source": [
        "<a href=\"https://colab.research.google.com/github/timothytqin/EarthxHack2020UTD/blob/master/scraping/dummy_v1.ipynb\" target=\"_parent\"><img src=\"https://colab.research.google.com/assets/colab-badge.svg\" alt=\"Open In Colab\"/></a>"
      ]
    },
    {
      "cell_type": "code",
      "metadata": {
        "id": "jDXEwWCBLdFI",
        "colab_type": "code",
        "colab": {}
      },
      "source": [
        "from bs4 import BeautifulSoup\n",
        "import requests"
      ],
      "execution_count": 0,
      "outputs": []
    },
    {
      "cell_type": "code",
      "metadata": {
        "id": "6TV6rye9LsBx",
        "colab_type": "code",
        "colab": {}
      },
      "source": [
        "def base_url(search_query):\n",
        "  return \"https://www.ebay.com/sch/i.html?_from=R40&_trksid=m570.l1313&_nkw=\"+search_query"
      ],
      "execution_count": 0,
      "outputs": []
    },
    {
      "cell_type": "code",
      "metadata": {
        "id": "ixkfMX7ZMj_i",
        "colab_type": "code",
        "colab": {}
      },
      "source": [
        "r=requests.get(base_url(\"macbook\"))\n",
        "soup = BeautifulSoup(r.text, \"html.parser\")\n",
        "all = soup.find_all('li', class_=\"s-item\")"
      ],
      "execution_count": 0,
      "outputs": []
    },
    {
      "cell_type": "code",
      "metadata": {
        "id": "tsFCYNIUM9Ig",
        "colab_type": "code",
        "colab": {}
      },
      "source": [
        "for i in all:\n",
        "  if i.div.div.div:\n",
        "    print(i.div.div.div.div.img['src'])\n",
        "    print(i.div.div.div.a['href'])\n",
        "    print(i.div.div.div.div.img['alt'])"
      ],
      "execution_count": 0,
      "outputs": []
    },
    {
      "cell_type": "code",
      "metadata": {
        "id": "wd2Qb2v5NA9t",
        "colab_type": "code",
        "colab": {}
      },
      "source": [
        "def get_top_results(search_me_daddy):\n",
        "  r=requests.get(base_url(search_me_daddy))\n",
        "  soup=BeautifulSoup(r.text, \"html.parser\")\n",
        "  all=soup.find_all('li', class_=\"s-item\")\n",
        "  l = []\n",
        "  for i in all:\n",
        "    if len(l) >= 3:\n",
        "      break\n",
        "    if i.div.div.div:\n",
        "      l.append({\n",
        "          \"Name\": i.div.div.div.div.img['alt'],\n",
        "          \"Image\": i.div.div.div.div.img['src'],\n",
        "          \"Link\": i.div.div.div.a['href']\n",
        "      })\n",
        "  return l"
      ],
      "execution_count": 0,
      "outputs": []
    },
    {
      "cell_type": "code",
      "metadata": {
        "id": "of6-pKZMJ-h8",
        "colab_type": "code",
        "colab": {}
      },
      "source": [
        "x=get_top_results(\"macbook\")"
      ],
      "execution_count": 0,
      "outputs": []
    },
    {
      "cell_type": "code",
      "metadata": {
        "id": "K_bQyJsXKDCa",
        "colab_type": "code",
        "colab": {
          "base_uri": "https://localhost:8080/",
          "height": 89
        },
        "outputId": "9cec9ea6-1239-4bc9-dcd1-d6911c6d5c2e"
      },
      "source": [
        "for i in x:\n",
        "  print(i)"
      ],
      "execution_count": 56,
      "outputs": [
        {
          "output_type": "stream",
          "text": [
            "{'Name': '❆ Apple MacBook Pro 13 / 2.4GHz INTEL / 8GB RAM / 1TB / 3 YR WARRANTY OS-2017', 'Image': 'https://i.ebayimg.com/thumbs/images/g/InQAAOSw0K5eTF~S/s-l225.jpg', 'Link': 'https://www.ebay.com/itm/Apple-MacBook-Pro-13-2-4GHz-INTEL-8GB-RAM-1TB-3-YR-WARRANTY-OS-2017/202661215955?_trkparms=ispr%3D1&hash=item2f2f8cbed3:g:InQAAOSw0K5eTF~S&enc=AQAEAAACYIQvEcHUrT7nmUC3yY5qbPyaBN1nJEDYW8MyypsJPgXKxIntehGqQQl8nLx%2FEZs3Rke7g4vHRfGOStSpMcpzLAVehFPk%2B%2Fgybtd3AfwaDtrJhAvsQRwaADKj38Z0ghah8iKMIbO%2BvMBBbB4H0d9PMXhZrMB6xG2YoneYCKcgq%2F7m%2BfoThZ1qt6qDNwbLJ7fJQlo4Bc%2BjkfbqzDVRT6pXIyFO%2B%2BT9vHy0xniub8oUMSgYL6u84YGeloyAm2BH9UHdMiGlTQyAQST82DYbaoMQEp8nqyCLIr2T3NcMajL8ZRt6gZnPW%2FzP8dliQmAdw3Z27nMELAv3%2F8i1NTs070u2X%2BxIVcs4oZa5DNzJF69IFAvDED7%2FeiFU0dE2vGij5UWwLbeXF4tV1Q5a8%2Fg8wr9dp6iV01oCRIJn2D9ZePJ1IRoYhGCUvc5%2BLH9h7AkARoKqr9wbO1sGrra4n7f7HGmaGbi2K8ZbLc5OXAaZZYfLRBu3HQIYxTeJh1XFuxpuEAPV4SywAjPdRqdKN2Rm%2BvGdb0c8n7MELBDNDQnVqfaAB4IZGTimxPtn%2FNmrXq3G0PqLzwtpVgrn5w9vZ6%2B%2BNPGk%2FSPH79G%2F1rLpUb5Ozs0VO6lOj030tjT4HEex3oUqDXH8I4puXIulB0fBe6QkzqK9R9dMgemyT9k3nvj7pmvilXa4zBwHadE2QEhoKVLDdBKUuHjDVgfZXxanab5SNpGuaykkjrkwCCrLAVXKAFPeF66U1k9efWOTARJGQSKfVTUBzh1h0bgYoEoHffFQxLc9ztF0oI8ebZ6g0vwTtjHRYqBs&checksum=20266121595507e79d61e8864bf0b46e94145a834866'}\n",
            "{'Name': 'Apple Macbook Air 13.3\" Touch ID Intel i5 8GB 128GB 2019 MVFH2LL/A Space Gray', 'Image': 'https://i.ebayimg.com/thumbs/images/g/iJwAAOSwSK9eCra~/s-l225.jpg', 'Link': 'https://www.ebay.com/itm/Apple-Macbook-Air-13-3-Touch-ID-Intel-i5-8GB-128GB-2019-MVFH2LL-A-Space-Gray/143487473514?epid=18032820715&hash=item216885176a:g:iJwAAOSwSK9eCra~:sc:ShippingMethodExpress!94043!US!-1'}\n",
            "{'Name': '15\" Apple MacBook Pro 1TB SSD Hybrid 8GB RAM Pre-Retina OSx-2015 3 YEAR WARRANTY', 'Image': 'https://i.ebayimg.com/thumbs/images/g/w24AAOSwVHpcBIMJ/s-l225.jpg', 'Link': 'https://www.ebay.com/itm/15-Apple-MacBook-Pro-1TB-SSD-Hybrid-8GB-RAM-Pre-Retina-OSx-2015-3-YEAR-WARRANTY/232166913270?_trkparms=ispr%3D1&hash=item360e39f4f6:g:w24AAOSwVHpcBIMJ&enc=AQAEAAACYIQvEcHUrT7nmUC3yY5qbPyaBN1nJEDYW8MyypsJPgXKprB7XQ6kzQrRwmk40BQLKG1rTjzsiDWgY7uZITgh%2FDdq7KHKuaze6fHTzu9V6yHRC5frzMtJ2cKmu5AJJk9LAoEOa%2BWOecWGU7Kg1maNm79OpjXvscW%2FMsmXK%2Bg%2Fk4i335XlSlC8cPVoezcgz89XmztqUzIXK0rRCLxHSKBgtmOBILK8RIHTULr1NnUC1HrAJBM8w0Jr%2FoDc1pApLs6Vy9qGux%2BFBK6D%2FqDQUDaE1mrufnuo1CSVtH5mcjVa8%2BJBvCfeuCMp2z%2FIfV4IP79CjKXwF%2Fw85HVPsJNzrupDoYkVwfrAVcOoY%2Bgrv5JXj5WQV5qzonjcUVAOZpKerrkQoC%2Bo7AEpg0SDKMtY4JQKn6%2FsGQqxOfsZDt4U6ZnGY%2FeUTKCwlUuW7TBFnCeF1PZI%2FtZKrUj9gqezpGG%2FHVueUGmjzZ4tJ6Z8c0V4d6evn8aHoIIg9xvJNp0iXZr8zBHR3JnUKJUtK5fDwOHePKXORlEYHfCb49VKEo9wyp5XRFvzaRY2bAeX6OlNDvgfMYaU%2BbygQ877sUW2UjYArVGuR%2FVVG4wzDciRJnaM%2BKFgNFFpZk055MIBA6Wia3aX%2BXCfvpprCq2yefonhah2E98KzOKchiGAis9YZvdRmtwUJgKuL45u8gIdVYCpx0MgG1AtfeDp8iPiz11Ei2SnCe1eE4CYaAATUxY2ISug%2FHTdlW7nqurP%2Fn%2BW0dF9uAUMWc%2Bj6WmksnznrOnjzaHk1YCr%2BYMGhrIcyp2O7NniVoss8sms&checksum=23216691327007e79d61e8864bf0b46e94145a834866'}\n"
          ],
          "name": "stdout"
        }
      ]
    },
    {
      "cell_type": "code",
      "metadata": {
        "id": "H-flogyRKdrB",
        "colab_type": "code",
        "colab": {}
      },
      "source": [
        ""
      ],
      "execution_count": 0,
      "outputs": []
    }
  ]
}